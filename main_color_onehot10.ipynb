{
 "cells": [
  {
   "cell_type": "code",
   "execution_count": 1,
   "id": "929a1d7b-51a8-44ed-ab3b-8b2a2baa31dc",
   "metadata": {},
   "outputs": [],
   "source": [
    "import arc_json_model as ajm\n",
    "from visualize import ajm_image_show\n",
    "\n",
    "ajm.Image.show = ajm_image_show"
   ]
  },
  {
   "cell_type": "code",
   "execution_count": 2,
   "id": "bcc018d5-5c3e-4acc-a9fd-e670d8a21c27",
   "metadata": {},
   "outputs": [],
   "source": [
    "import torch\n",
    "import numpy as np\n",
    "from torchvision import datasets\n",
    "import torchvision.transforms as transforms\n",
    "from torchsummary import summary\n",
    "from tqdm import tqdm\n",
    "\n",
    "\n",
    "device = torch.device(\"mps\")\n",
    "#device = torch.device(\"cuda\")\n",
    "#device = torch.device(\"cpu\")\n"
   ]
  },
  {
   "cell_type": "code",
   "execution_count": 83,
   "id": "fbaa81fe-7682-4cb3-9f57-fe94d5dd4fa4",
   "metadata": {},
   "outputs": [
    {
     "data": {
      "image/png": "[encoded data removed]",
      "text/plain": [
       "<Figure size 500x500 with 1 Axes>"
      ]
     },
     "metadata": {},
     "output_type": "display_data"
    }
   ],
   "source": [
    "#filename = 'testdata/af902bf9.json'\n",
    "#filename = 'testdata/62c24649.json'\n",
    "#filename = 'testdata/a699fb00.json'\n",
    "#filename = 'testdata/f76d97a5.json'\n",
    "filename = 'testdata/f5b8619d.json'\n",
    "task = ajm.Task.load(filename)\n",
    "image = task.pairs[0].input\n",
    "image.show()"
   ]
  },
  {
   "cell_type": "code",
   "execution_count": 102,
   "id": "8e2d17ed-0262-4915-a6e6-a5459b5a09ab",
   "metadata": {},
   "outputs": [
    {
     "name": "stdout",
     "output_type": "stream",
     "text": [
      "len(train_input_output) 9\n",
      "len(test_input_output) 3\n"
     ]
    }
   ],
   "source": [
    "from color_xy import color_to_xy\n",
    "\n",
    "# TODO: get it to work with size 30x30\n",
    "IMAGE_SIZE = 28\n",
    "\n",
    "def obfuscate_image(image: ajm.Image, offset: float) -> np.ndarray:\n",
    "    # empty image with size: IMAGE_SIZE x IMAGE_SIZE\n",
    "    # each pixel is an array with the 2 obfuscated [x,y] values\n",
    "    rows2 = []\n",
    "    for y in range(0,IMAGE_SIZE):\n",
    "        columns2 = [[0.0, 0.0]] * IMAGE_SIZE\n",
    "        rows2.append(columns2)\n",
    "    # assign obfuscated values\n",
    "    for row_index, rows in enumerate(image.pixels):\n",
    "        for column_index, pixel in enumerate(rows):\n",
    "            xy = color_to_xy(pixel, 10, offset)\n",
    "            rows2[row_index][column_index] = xy\n",
    "    obfuscated_image = np.array(rows2)\n",
    "    return obfuscated_image\n",
    "\n",
    "def onehot_image(image: ajm.Image, offset: float) -> np.ndarray:\n",
    "    offset_int = int(offset * 10.0)\n",
    "    # empty image with size: IMAGE_SIZE x IMAGE_SIZE\n",
    "    # each pixel is an array with the 10 values either 0 or 1\n",
    "    ten_zeros = [0] * 10\n",
    "    rows2 = []\n",
    "    for y in range(0,IMAGE_SIZE):\n",
    "        columns2 = [ten_zeros] * IMAGE_SIZE\n",
    "        rows2.append(columns2)\n",
    "    # assign obfuscated values\n",
    "    for row_index, rows in enumerate(image.pixels):\n",
    "        for column_index, pixel in enumerate(rows):\n",
    "            onehot_index = (pixel + offset_int) % 10\n",
    "            rows2[row_index][column_index][onehot_index] = 1\n",
    "    obfuscated_image = np.array(rows2)\n",
    "    return obfuscated_image\n",
    "\n",
    "def numpy_image_to_tensors(obfuscated_image: np.ndarray, device: torch.device) -> torch.Tensor:\n",
    "    tensors = torch.from_numpy(obfuscated_image)\n",
    "    #print(tensors)\n",
    "    # cast it to 32-bit floating point tensor\n",
    "    tensors = tensors.type('torch.FloatTensor')\n",
    "    #print(tensors)\n",
    "    #print(\"before\", tensors.shape)\n",
    "    # change layout from: rows -> columns -> obfuscated_pixel_array\n",
    "    # change layout to:  obfuscated_pixel_array -> rows -> columns\n",
    "    tensors = tensors.permute(2, 0, 1)\n",
    "    #print(\"after\", tensors.shape)\n",
    "    tensors_on_device = tensors.to(device)\n",
    "    return tensors_on_device\n",
    "    \n",
    "all_images = []\n",
    "for pair in task.pairs:\n",
    "    all_images.append(pair.input)\n",
    "    all_images.append(pair.output)\n",
    "\n",
    "train_input_output = []\n",
    "test_input_output = []\n",
    "number_of_offsets = 3\n",
    "for i in range(0, number_of_offsets):\n",
    "    offset = float(i) / float(number_of_offsets)\n",
    "    if i == 0:\n",
    "        offset = 0.01111\n",
    "    if i == 1:\n",
    "        offset = 0.71313\n",
    "    if i == 2:\n",
    "        offset = 0.91555\n",
    "    if i == 3:\n",
    "        offset = 0.51717\n",
    "    if i == 4:\n",
    "        offset = 0.330823\n",
    "    if i == 5:\n",
    "        offset = 0.23\n",
    "    if i == 6:\n",
    "        offset = 0.893\n",
    "    \n",
    "    for pair in task.pairs:\n",
    "        #input_image = obfuscate_image(pair.input, offset)\n",
    "        input_image = onehot_image(pair.input, offset)\n",
    "        #output_image = obfuscate_image(pair.output, offset)\n",
    "        output_image = onehot_image(pair.output, offset)\n",
    "        input_tensors = numpy_image_to_tensors(input_image, device)\n",
    "        output_tensors = numpy_image_to_tensors(output_image, device)\n",
    "        input_output_offset = (input_tensors, output_tensors, offset)\n",
    "        if pair.pair_type == ajm.PairType.TRAIN:\n",
    "            train_input_output.append(input_output_offset)\n",
    "        else:\n",
    "            test_input_output.append(input_output_offset)\n",
    "print(\"len(train_input_output)\", len(train_input_output))\n",
    "print(\"len(test_input_output)\", len(test_input_output))"
   ]
  },
  {
   "cell_type": "code",
   "execution_count": 103,
   "id": "45e2653e-3539-4b61-ade5-18a193c93616",
   "metadata": {},
   "outputs": [
    {
     "name": "stdout",
     "output_type": "stream",
     "text": [
      "ConvAutoencoder(\n",
      "  (conv1): Conv2d(10, 16, kernel_size=(3, 3), stride=(1, 1), padding=(1, 1))\n",
      "  (conv2): Conv2d(16, 32, kernel_size=(3, 3), stride=(1, 1), padding=(1, 1))\n",
      "  (pool): MaxPool2d(kernel_size=2, stride=2, padding=0, dilation=1, ceil_mode=False)\n",
      "  (t_conv1): ConvTranspose2d(32, 16, kernel_size=(2, 2), stride=(2, 2))\n",
      "  (t_conv2): ConvTranspose2d(16, 10, kernel_size=(2, 2), stride=(2, 2))\n",
      ")\n",
      "----------------------------------------------------------------\n",
      "        Layer (type)               Output Shape         Param #\n",
      "================================================================\n",
      "            Conv2d-1           [-1, 16, 30, 30]           1,456\n",
      "         MaxPool2d-2           [-1, 16, 15, 15]               0\n",
      "            Conv2d-3           [-1, 32, 15, 15]           4,640\n",
      "         MaxPool2d-4             [-1, 32, 7, 7]               0\n",
      "   ConvTranspose2d-5           [-1, 16, 14, 14]           2,064\n",
      "   ConvTranspose2d-6           [-1, 10, 28, 28]             650\n",
      "================================================================\n",
      "Total params: 8,810\n",
      "Trainable params: 8,810\n",
      "Non-trainable params: 0\n",
      "----------------------------------------------------------------\n",
      "Input size (MB): 0.03\n",
      "Forward/backward pass size (MB): 0.29\n",
      "Params size (MB): 0.03\n",
      "Estimated Total Size (MB): 0.36\n",
      "----------------------------------------------------------------\n"
     ]
    }
   ],
   "source": [
    "import torch.nn as nn\n",
    "import torch.nn.functional as F\n",
    "\n",
    "# define the NN architecture\n",
    "class ConvAutoencoder(nn.Module):\n",
    "    def __init__(self):\n",
    "        super(ConvAutoencoder, self).__init__()\n",
    "        ## encoder layers ##\n",
    "        # conv layer (depth from 2 --> 16), 3x3 kernels\n",
    "        self.conv1 = nn.Conv2d(10, 16, 3, padding=1)  \n",
    "        # conv layer (depth from 16 --> 4), 3x3 kernels\n",
    "        self.conv2 = nn.Conv2d(16, 32, 3, padding=1)\n",
    "        # pooling layer to reduce x-y dims by two; kernel and stride of 2\n",
    "        self.pool = nn.MaxPool2d(2, 2)\n",
    "        \n",
    "        ## decoder layers ##\n",
    "        ## a kernel of 2 and a stride of 2 will increase the spatial dims by 2\n",
    "        self.t_conv1 = nn.ConvTranspose2d(32, 16, 2, stride=2)\n",
    "        self.t_conv2 = nn.ConvTranspose2d(16, 10, 2, stride=2)\n",
    "\n",
    "\n",
    "    def forward(self, x):\n",
    "        ## encode ##\n",
    "        # add hidden layers with relu activation function\n",
    "        # and maxpooling after\n",
    "        x = F.relu(self.conv1(x))\n",
    "        x = self.pool(x)\n",
    "        # add second hidden layer\n",
    "        x = F.relu(self.conv2(x))\n",
    "        x = self.pool(x)  # compressed representation\n",
    "        \n",
    "        ## decode ##\n",
    "        # add transpose conv layers, with relu activation function\n",
    "        x = F.relu(self.t_conv1(x))\n",
    "        # output layer (with sigmoid for scaling from 0 to 1)\n",
    "        x = F.sigmoid(self.t_conv2(x))\n",
    "                \n",
    "        return x\n",
    "\n",
    "# initialize the NN\n",
    "model = ConvAutoencoder()\n",
    "print(model)\n",
    "#summary(model,input_size=(2,30,30))\n",
    "summary(model,input_size=(10,30,30))\n",
    "model = model.to(device)"
   ]
  },
  {
   "cell_type": "code",
   "execution_count": 104,
   "id": "32898b91-a8f1-47f0-9a75-ea7917f05f72",
   "metadata": {},
   "outputs": [],
   "source": [
    "# specify loss function\n",
    "criterion = nn.MSELoss()\n",
    "#criterion = nn.L1Loss()\n",
    "#criterion = nn.CrossEntropyLoss()\n",
    "#criterion = nn.KLDivLoss()\n",
    "#criterion = nn.BCELoss()\n",
    "#criterion = nn.BCEWithLogitsLoss()\n",
    "\n",
    "# specify loss function\n",
    "optimizer = torch.optim.Adam(model.parameters(), lr=0.001)"
   ]
  },
  {
   "cell_type": "code",
   "execution_count": 107,
   "id": "24fa3733-aaed-49a8-883b-408aac441ebf",
   "metadata": {},
   "outputs": [
    {
     "name": "stderr",
     "output_type": "stream",
     "text": [
      "100%|█████████████████████████████████████████████████████████████████████████████████████████████████████████████████████████████████████████████████████████████████████████████████████████████████████████████████| 9/9 [00:00<00:00, 127.24it/s]\n"
     ]
    },
    {
     "name": "stdout",
     "output_type": "stream",
     "text": [
      "Epoch: 1 \tTraining Loss: 0.748481\n"
     ]
    },
    {
     "name": "stderr",
     "output_type": "stream",
     "text": [
      "100%|█████████████████████████████████████████████████████████████████████████████████████████████████████████████████████████████████████████████████████████████████████████████████████████████████████████████████| 9/9 [00:00<00:00, 152.52it/s]\n"
     ]
    },
    {
     "name": "stdout",
     "output_type": "stream",
     "text": [
      "Epoch: 2 \tTraining Loss: 0.716186\n"
     ]
    },
    {
     "name": "stderr",
     "output_type": "stream",
     "text": [
      "100%|█████████████████████████████████████████████████████████████████████████████████████████████████████████████████████████████████████████████████████████████████████████████████████████████████████████████████| 9/9 [00:00<00:00, 172.92it/s]\n"
     ]
    },
    {
     "name": "stdout",
     "output_type": "stream",
     "text": [
      "Epoch: 3 \tTraining Loss: 0.687404\n"
     ]
    },
    {
     "name": "stderr",
     "output_type": "stream",
     "text": [
      "100%|█████████████████████████████████████████████████████████████████████████████████████████████████████████████████████████████████████████████████████████████████████████████████████████████████████████████████| 9/9 [00:00<00:00, 193.68it/s]\n"
     ]
    },
    {
     "name": "stdout",
     "output_type": "stream",
     "text": [
      "Epoch: 4 \tTraining Loss: 0.661680\n"
     ]
    },
    {
     "name": "stderr",
     "output_type": "stream",
     "text": [
      "100%|█████████████████████████████████████████████████████████████████████████████████████████████████████████████████████████████████████████████████████████████████████████████████████████████████████████████████| 9/9 [00:00<00:00, 196.24it/s]\n"
     ]
    },
    {
     "name": "stdout",
     "output_type": "stream",
     "text": [
      "Epoch: 5 \tTraining Loss: 0.636713\n"
     ]
    },
    {
     "name": "stderr",
     "output_type": "stream",
     "text": [
      "100%|█████████████████████████████████████████████████████████████████████████████████████████████████████████████████████████████████████████████████████████████████████████████████████████████████████████████████| 9/9 [00:00<00:00, 189.97it/s]\n"
     ]
    },
    {
     "name": "stdout",
     "output_type": "stream",
     "text": [
      "Epoch: 6 \tTraining Loss: 0.612834\n"
     ]
    },
    {
     "name": "stderr",
     "output_type": "stream",
     "text": [
      "100%|█████████████████████████████████████████████████████████████████████████████████████████████████████████████████████████████████████████████████████████████████████████████████████████████████████████████████| 9/9 [00:00<00:00, 192.99it/s]\n"
     ]
    },
    {
     "name": "stdout",
     "output_type": "stream",
     "text": [
      "Epoch: 7 \tTraining Loss: 0.588938\n"
     ]
    },
    {
     "name": "stderr",
     "output_type": "stream",
     "text": [
      "100%|█████████████████████████████████████████████████████████████████████████████████████████████████████████████████████████████████████████████████████████████████████████████████████████████████████████████████| 9/9 [00:00<00:00, 189.74it/s]\n"
     ]
    },
    {
     "name": "stdout",
     "output_type": "stream",
     "text": [
      "Epoch: 8 \tTraining Loss: 0.564912\n"
     ]
    },
    {
     "name": "stderr",
     "output_type": "stream",
     "text": [
      "100%|█████████████████████████████████████████████████████████████████████████████████████████████████████████████████████████████████████████████████████████████████████████████████████████████████████████████████| 9/9 [00:00<00:00, 185.56it/s]\n"
     ]
    },
    {
     "name": "stdout",
     "output_type": "stream",
     "text": [
      "Epoch: 9 \tTraining Loss: 0.541787\n"
     ]
    },
    {
     "name": "stderr",
     "output_type": "stream",
     "text": [
      "100%|█████████████████████████████████████████████████████████████████████████████████████████████████████████████████████████████████████████████████████████████████████████████████████████████████████████████████| 9/9 [00:00<00:00, 192.00it/s]"
     ]
    },
    {
     "name": "stdout",
     "output_type": "stream",
     "text": [
      "Epoch: 10 \tTraining Loss: 0.519482\n"
     ]
    },
    {
     "name": "stderr",
     "output_type": "stream",
     "text": [
      "\n"
     ]
    }
   ],
   "source": [
    "import random\n",
    "#random.Random(42).shuffle(train_input_output)\n",
    "\n",
    "# number of epochs to train the model\n",
    "n_epochs = 10\n",
    "\n",
    "for epoch in range(1, n_epochs+1):\n",
    "    # monitor training loss\n",
    "    train_loss = 0.0\n",
    "\n",
    "    #random.Random(epoch).shuffle(train_input_output)\n",
    "    \n",
    "    ###################\n",
    "    # train the model #\n",
    "    ###################\n",
    "    for input_output_offset in tqdm(train_input_output):\n",
    "        input, expected_output, _ = input_output_offset\n",
    "        \n",
    "        # clear the gradients of all optimized variables\n",
    "        optimizer.zero_grad()\n",
    "        # forward pass: compute predicted outputs by passing inputs to the model\n",
    "\n",
    "        outputs = model(input)\n",
    "        # calculate the loss\n",
    "        loss = criterion(outputs, expected_output)\n",
    "        # backward pass: compute gradient of the loss with respect to model parameters\n",
    "        loss.backward()\n",
    "        # perform a single optimization step (parameter update)\n",
    "        optimizer.step()\n",
    "        # update running training loss\n",
    "        train_loss += loss.item()*input.size(0)\n",
    "            \n",
    "    # print avg training statistics \n",
    "    train_loss = train_loss/len(train_input_output)\n",
    "    print('Epoch: {} \\tTraining Loss: {:.6f}'.format(\n",
    "        epoch, \n",
    "        train_loss\n",
    "        ))"
   ]
  },
  {
   "cell_type": "code",
   "execution_count": 108,
   "id": "2ed1d86b-8cce-4ce6-be89-7a2e7a325d23",
   "metadata": {},
   "outputs": [
    {
     "data": {
      "image/png": "[encoded data removed]",
      "text/plain": [
       "<Figure size 500x500 with 1 Axes>"
      ]
     },
     "metadata": {},
     "output_type": "display_data"
    }
   ],
   "source": [
    "# obtain one batch of test images\n",
    "dataiter = iter(test_input_output)\n",
    "input, expected_output, offset = next(dataiter)\n",
    "\n",
    "# get sample outputs\n",
    "output = model(input)\n",
    "\n",
    "output_tensor = output.cpu().detach()\n",
    "#print(\"output_tensor.shape\", output_tensor.shape)\n",
    "output_tensor = output_tensor.permute(1, 2, 0)\n",
    "#print(\"output_tensor.shape\", output_tensor.shape)\n",
    "output_numpy = output_tensor.numpy()\n",
    "#print(\"output_numpy.shape\", output_numpy.shape)\n",
    "\n",
    "from color_xy import xy_to_color\n",
    "\n",
    "deobfuscated = []\n",
    "COLOR_UNDEFINED = 10\n",
    "for y in range(0,IMAGE_SIZE):\n",
    "    columns2 = [COLOR_UNDEFINED] * IMAGE_SIZE\n",
    "    deobfuscated.append(columns2)\n",
    "\n",
    "offset_int = int(offset * 10.0)\n",
    "for row_index, row in enumerate(output_numpy):\n",
    "    #print(\"row_index\", row_index)\n",
    "    for column_index, xy in enumerate(row):\n",
    "        color_index = np.argmax(xy)\n",
    "        color_index = (color_index + 10 - offset_int) % 10\n",
    "        deobfuscated[row_index][column_index] = color_index\n",
    "        #x, y = xy\n",
    "        #distance = x * x + y * y\n",
    "        #if distance > 0.35 and distance < 1.5:\n",
    "        #    color = xy_to_color((x, y), 10, offset)\n",
    "        #    deobfuscated[row_index][column_index] = color\n",
    "\n",
    "pixels = np.array(deobfuscated, np.int32)\n",
    "result = ajm.Image(pixels, \"predicted\")\n",
    "result.show()"
   ]
  },
  {
   "cell_type": "code",
   "execution_count": null,
   "id": "789a56c4-e809-462c-8a02-ad6fff0922c0",
   "metadata": {},
   "outputs": [],
   "source": []
  }
 ],
 "metadata": {
  "kernelspec": {
   "display_name": "Python 3 (ipykernel)",
   "language": "python",
   "name": "python3"
  },
  "language_info": {
   "codemirror_mode": {
    "name": "ipython",
    "version": 3
   },
   "file_extension": ".py",
   "mimetype": "text/x-python",
   "name": "python",
   "nbconvert_exporter": "python",
   "pygments_lexer": "ipython3",
   "version": "3.11.4"
  }
 },
 "nbformat": 4,
 "nbformat_minor": 5
}
